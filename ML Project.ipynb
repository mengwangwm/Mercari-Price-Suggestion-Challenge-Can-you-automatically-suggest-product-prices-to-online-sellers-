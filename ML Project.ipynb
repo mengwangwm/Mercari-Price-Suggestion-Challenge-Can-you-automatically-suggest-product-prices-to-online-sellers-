{
 "cells": [
  {
   "cell_type": "markdown",
   "metadata": {},
   "source": [
    "# Import packages"
   ]
  },
  {
   "cell_type": "code",
   "execution_count": 5,
   "metadata": {},
   "outputs": [],
   "source": [
    "import gc\n",
    "import time\n",
    "import numpy as np\n",
    "import pandas as pd\n",
    "import matplotlib.pyplot as plt\n",
    "import seaborn as sns\n",
    "from scipy.sparse import csr_matrix, hstack\n",
    "from sklearn.feature_extraction.text import CountVectorizer, TfidfVectorizer\n",
    "from sklearn.preprocessing import LabelBinarizer\n",
    "from sklearn.model_selection import train_test_split, cross_val_score\n",
    "from sklearn.metrics import mean_squared_error\n",
    "#import lightgbm as lgb\n",
    "df = pd.read_csv('https://s3.amazonaws.com/bigdatafinalkami/train.tsv', sep = '\\t')"
   ]
  },
  {
   "cell_type": "code",
   "execution_count": 6,
   "metadata": {},
   "outputs": [],
   "source": [
    "pd.set_option('display.max_rows', 500)\n",
    "pd.set_option('display.max_columns', 500)\n",
    "pd.set_option('display.width', 1000)\n",
    "pd.set_option('display.float_format', '{:.5f}'.format)"
   ]
  },
  {
   "cell_type": "markdown",
   "metadata": {},
   "source": [
    "# Explore data"
   ]
  },
  {
   "cell_type": "code",
   "execution_count": 4,
   "metadata": {},
   "outputs": [
    {
     "name": "stdout",
     "output_type": "stream",
     "text": [
      "<class 'pandas.core.frame.DataFrame'>\n",
      "RangeIndex: 1482535 entries, 0 to 1482534\n",
      "Data columns (total 8 columns):\n",
      "train_id             1482535 non-null int64\n",
      "name                 1482535 non-null object\n",
      "item_condition_id    1482535 non-null int64\n",
      "category_name        1476208 non-null object\n",
      "brand_name           849853 non-null object\n",
      "price                1482535 non-null float64\n",
      "shipping             1482535 non-null int64\n",
      "item_description     1482531 non-null object\n",
      "dtypes: float64(1), int64(3), object(4)\n",
      "memory usage: 90.5+ MB\n"
     ]
    }
   ],
   "source": [
    "df.info()"
   ]
  },
  {
   "cell_type": "code",
   "execution_count": 5,
   "metadata": {},
   "outputs": [
    {
     "data": {
      "text/html": [
       "<div>\n",
       "<style scoped>\n",
       "    .dataframe tbody tr th:only-of-type {\n",
       "        vertical-align: middle;\n",
       "    }\n",
       "\n",
       "    .dataframe tbody tr th {\n",
       "        vertical-align: top;\n",
       "    }\n",
       "\n",
       "    .dataframe thead th {\n",
       "        text-align: right;\n",
       "    }\n",
       "</style>\n",
       "<table border=\"1\" class=\"dataframe\">\n",
       "  <thead>\n",
       "    <tr style=\"text-align: right;\">\n",
       "      <th></th>\n",
       "      <th>train_id</th>\n",
       "      <th>name</th>\n",
       "      <th>item_condition_id</th>\n",
       "      <th>category_name</th>\n",
       "      <th>brand_name</th>\n",
       "      <th>price</th>\n",
       "      <th>shipping</th>\n",
       "      <th>item_description</th>\n",
       "    </tr>\n",
       "  </thead>\n",
       "  <tbody>\n",
       "    <tr>\n",
       "      <th>0</th>\n",
       "      <td>0</td>\n",
       "      <td>MLB Cincinnati Reds T Shirt Size XL</td>\n",
       "      <td>3</td>\n",
       "      <td>Men/Tops/T-shirts</td>\n",
       "      <td>NaN</td>\n",
       "      <td>10.00000</td>\n",
       "      <td>1</td>\n",
       "      <td>No description yet</td>\n",
       "    </tr>\n",
       "    <tr>\n",
       "      <th>1</th>\n",
       "      <td>1</td>\n",
       "      <td>Razer BlackWidow Chroma Keyboard</td>\n",
       "      <td>3</td>\n",
       "      <td>Electronics/Computers &amp; Tablets/Components &amp; P...</td>\n",
       "      <td>Razer</td>\n",
       "      <td>52.00000</td>\n",
       "      <td>0</td>\n",
       "      <td>This keyboard is in great condition and works ...</td>\n",
       "    </tr>\n",
       "    <tr>\n",
       "      <th>2</th>\n",
       "      <td>2</td>\n",
       "      <td>AVA-VIV Blouse</td>\n",
       "      <td>1</td>\n",
       "      <td>Women/Tops &amp; Blouses/Blouse</td>\n",
       "      <td>Target</td>\n",
       "      <td>10.00000</td>\n",
       "      <td>1</td>\n",
       "      <td>Adorable top with a hint of lace and a key hol...</td>\n",
       "    </tr>\n",
       "    <tr>\n",
       "      <th>3</th>\n",
       "      <td>3</td>\n",
       "      <td>Leather Horse Statues</td>\n",
       "      <td>1</td>\n",
       "      <td>Home/Home Décor/Home Décor Accents</td>\n",
       "      <td>NaN</td>\n",
       "      <td>35.00000</td>\n",
       "      <td>1</td>\n",
       "      <td>New with tags. Leather horses. Retail for [rm]...</td>\n",
       "    </tr>\n",
       "    <tr>\n",
       "      <th>4</th>\n",
       "      <td>4</td>\n",
       "      <td>24K GOLD plated rose</td>\n",
       "      <td>1</td>\n",
       "      <td>Women/Jewelry/Necklaces</td>\n",
       "      <td>NaN</td>\n",
       "      <td>44.00000</td>\n",
       "      <td>0</td>\n",
       "      <td>Complete with certificate of authenticity</td>\n",
       "    </tr>\n",
       "  </tbody>\n",
       "</table>\n",
       "</div>"
      ],
      "text/plain": [
       "   train_id                                 name  item_condition_id                                      category_name brand_name    price  shipping                                   item_description\n",
       "0         0  MLB Cincinnati Reds T Shirt Size XL                  3                                  Men/Tops/T-shirts        NaN 10.00000         1                                 No description yet\n",
       "1         1     Razer BlackWidow Chroma Keyboard                  3  Electronics/Computers & Tablets/Components & P...      Razer 52.00000         0  This keyboard is in great condition and works ...\n",
       "2         2                       AVA-VIV Blouse                  1                        Women/Tops & Blouses/Blouse     Target 10.00000         1  Adorable top with a hint of lace and a key hol...\n",
       "3         3                Leather Horse Statues                  1                 Home/Home Décor/Home Décor Accents        NaN 35.00000         1  New with tags. Leather horses. Retail for [rm]...\n",
       "4         4                 24K GOLD plated rose                  1                            Women/Jewelry/Necklaces        NaN 44.00000         0          Complete with certificate of authenticity"
      ]
     },
     "execution_count": 5,
     "metadata": {},
     "output_type": "execute_result"
    }
   ],
   "source": [
    "df.head()"
   ]
  },
  {
   "cell_type": "code",
   "execution_count": 6,
   "metadata": {},
   "outputs": [
    {
     "data": {
      "text/plain": [
       "train_id                  0\n",
       "name                      0\n",
       "item_condition_id         0\n",
       "category_name          6327\n",
       "brand_name           632682\n",
       "price                     0\n",
       "shipping                  0\n",
       "item_description          4\n",
       "dtype: int64"
      ]
     },
     "execution_count": 6,
     "metadata": {},
     "output_type": "execute_result"
    }
   ],
   "source": [
    "# NA values in 3 columns, need to deal with them later\n",
    "df.isnull().sum()"
   ]
  },
  {
   "cell_type": "code",
   "execution_count": 7,
   "metadata": {},
   "outputs": [
    {
     "data": {
      "text/plain": [
       "count   1482535.00000\n",
       "mean         26.73752\n",
       "std          38.58607\n",
       "min           0.00000\n",
       "25%          10.00000\n",
       "50%          17.00000\n",
       "75%          29.00000\n",
       "max        2009.00000\n",
       "Name: price, dtype: float64"
      ]
     },
     "execution_count": 7,
     "metadata": {},
     "output_type": "execute_result"
    }
   ],
   "source": [
    "# the standard deviation of price is around 38.6\n",
    "df.price.describe()"
   ]
  },
  {
   "cell_type": "code",
   "execution_count": 97,
   "metadata": {},
   "outputs": [
    {
     "data": {
      "text/plain": [
       "Text(0.5, 1.0, 'Price Distribution')"
      ]
     },
     "execution_count": 97,
     "metadata": {},
     "output_type": "execute_result"
    },
    {
     "data": {
      "image/png": "[encoded data removed]",
      "text/plain": [
       "<Figure size 1008x432 with 2 Axes>"
      ]
     },
     "metadata": {
      "needs_background": "light"
     },
     "output_type": "display_data"
    }
   ],
   "source": [
    "# price is right-skewed, need to transform it using logarithm\n",
    "plt.subplot(1, 2, 1)\n",
    "(df['price']).plot.hist(bins=50, figsize=(14, 6))\n",
    "plt.xlabel('Price')\n",
    "plt.title('Price Distribution')\n",
    "plt.subplot(1, 2, 2)\n",
    "np.log(df['price']+1).plot.hist(bins=50, figsize=(14, 6))\n",
    "plt.xlabel('Price After Transformation')\n",
    "plt.title('Price Distribution')"
   ]
  },
  {
   "cell_type": "code",
   "execution_count": 98,
   "metadata": {},
   "outputs": [
    {
     "data": {
      "text/plain": [
       "0   0.55273\n",
       "1   0.44727\n",
       "Name: shipping, dtype: float64"
      ]
     },
     "execution_count": 98,
     "metadata": {},
     "output_type": "execute_result"
    }
   ],
   "source": [
    "# 55% of the products have shipping fee paid by buyers\n",
    "df['shipping'].value_counts() / len(df)"
   ]
  },
  {
   "cell_type": "code",
   "execution_count": 99,
   "metadata": {},
   "outputs": [
    {
     "data": {
      "image/png": "[encoded data removed]",
      "text/plain": [
       "<Figure size 1296x576 with 1 Axes>"
      ]
     },
     "metadata": {
      "needs_background": "light"
     },
     "output_type": "display_data"
    }
   ],
   "source": [
    "# we observed an obvious difference between sales price and shipping type\n",
    "shipping_buyer = df.loc[df['shipping'] == 0, 'price']\n",
    "shipping_seller = df.loc[df['shipping'] == 1, 'price']\n",
    "fig, ax = plt.subplots(figsize=(18,8))\n",
    "ax.hist(shipping_seller, color='#002878', alpha=0.7, bins=50, range = [0, 100],\n",
    "       label='Price when Sellers pay Shipping')\n",
    "ax.hist(shipping_buyer, color='orange', alpha=0.7, bins=50, range = [0, 100],\n",
    "       label='Price when Buyers pay Shipping')\n",
    "plt.xlabel('Price', fontsize=14)\n",
    "plt.ylabel('Frequency', fontsize=14)\n",
    "plt.title('Price Distribution by Shipping Type', fontsize=15)\n",
    "plt.tick_params(labelsize=12)\n",
    "plt.legend()\n",
    "plt.show()"
   ]
  },
  {
   "cell_type": "code",
   "execution_count": 12,
   "metadata": {},
   "outputs": [
    {
     "name": "stdout",
     "output_type": "stream",
     "text": [
      "The average price is 22.55 if seller pays shipping\n",
      "The average price is 30.16 if buyer pays shipping\n"
     ]
    }
   ],
   "source": [
    "#print('The average price is {}'.format(round(shipping_seller.mean(), 2)), 'if seller pays shipping');\n",
    "#print('The average price is {}'.format(round(shipping_buyer.mean(), 2)), 'if buyer pays shipping')"
   ]
  },
  {
   "cell_type": "code",
   "execution_count": 100,
   "metadata": {},
   "outputs": [
    {
     "data": {
      "image/png": "[encoded data removed]",
      "text/plain": [
       "<Figure size 1296x576 with 1 Axes>"
      ]
     },
     "metadata": {
      "needs_background": "light"
     },
     "output_type": "display_data"
    }
   ],
   "source": [
    "# the pattern is similar for transformed price\n",
    "fig, ax = plt.subplots(figsize=(18,8))\n",
    "ax.hist(np.log(shipping_seller+1), color='#002878', alpha=0.7, bins=50,\n",
    "       label='Price when Sellers pay Shipping')\n",
    "ax.hist(np.log(shipping_buyer+1), color='orange', alpha=0.7, bins=50,\n",
    "       label='Price when Buyers pay Shipping')\n",
    "plt.xlabel('Price After Transformation', fontsize=14)\n",
    "plt.ylabel('Frequency', fontsize=14)\n",
    "plt.title('Price Distribution by Shipping Type', fontsize=15)\n",
    "plt.tick_params(labelsize=12)\n",
    "plt.legend()\n",
    "plt.show()"
   ]
  },
  {
   "cell_type": "markdown",
   "metadata": {},
   "source": [
    "# Data cleaning"
   ]
  },
  {
   "cell_type": "code",
   "execution_count": 7,
   "metadata": {},
   "outputs": [],
   "source": [
    "# deal with missing values in columns\n",
    "df['category_name'].fillna(value='missing', inplace=True)\n",
    "df['brand_name'].fillna(value='missing', inplace=True)\n",
    "df['item_description'].replace('No description yet','missing', inplace=True)\n",
    "df['item_description'].fillna(value='missing', inplace=True)"
   ]
  },
  {
   "cell_type": "code",
   "execution_count": 9,
   "metadata": {},
   "outputs": [
    {
     "data": {
      "text/plain": [
       "train_id             0\n",
       "name                 0\n",
       "item_condition_id    0\n",
       "category_name        0\n",
       "brand_name           0\n",
       "price                0\n",
       "shipping             0\n",
       "item_description     0\n",
       "dtype: int64"
      ]
     },
     "execution_count": 9,
     "metadata": {},
     "output_type": "execute_result"
    }
   ],
   "source": [
    "df.isnull().sum()"
   ]
  },
  {
   "cell_type": "code",
   "execution_count": 8,
   "metadata": {},
   "outputs": [
    {
     "data": {
      "text/plain": [
       "((1186028, 8), (296507, 8))"
      ]
     },
     "execution_count": 8,
     "metadata": {},
     "output_type": "execute_result"
    }
   ],
   "source": [
    "# trainig, test split\n",
    "train, test = train_test_split(df, test_size=0.2, random_state=1122)\n",
    "train.shape, test.shape"
   ]
  },
  {
   "cell_type": "code",
   "execution_count": 9,
   "metadata": {},
   "outputs": [
    {
     "name": "stderr",
     "output_type": "stream",
     "text": [
      "/home/ec2-user/anaconda3/envs/python3/lib/python3.6/site-packages/pandas/core/indexing.py:537: SettingWithCopyWarning: \n",
      "A value is trying to be set on a copy of a slice from a DataFrame.\n",
      "Try using .loc[row_indexer,col_indexer] = value instead\n",
      "\n",
      "See the caveats in the documentation: http://pandas.pydata.org/pandas-docs/stable/indexing.html#indexing-view-versus-copy\n",
      "  self.obj[item] = s\n"
     ]
    }
   ],
   "source": [
    "# for brands in test data which are not in training data, categorize then as \"missing\"\n",
    "brand_list = train['brand_name'].unique()\n",
    "test.loc[~test['brand_name'].isin(brand_list), 'brand_name'] = 'missing'"
   ]
  },
  {
   "cell_type": "code",
   "execution_count": 10,
   "metadata": {},
   "outputs": [
    {
     "name": "stderr",
     "output_type": "stream",
     "text": [
      "/home/ec2-user/anaconda3/envs/python3/lib/python3.6/site-packages/ipykernel/__main__.py:2: SettingWithCopyWarning: \n",
      "A value is trying to be set on a copy of a slice from a DataFrame.\n",
      "Try using .loc[row_indexer,col_indexer] = value instead\n",
      "\n",
      "See the caveats in the documentation: http://pandas.pydata.org/pandas-docs/stable/indexing.html#indexing-view-versus-copy\n",
      "  from ipykernel import kernelapp as app\n",
      "/home/ec2-user/anaconda3/envs/python3/lib/python3.6/site-packages/ipykernel/__main__.py:3: SettingWithCopyWarning: \n",
      "A value is trying to be set on a copy of a slice from a DataFrame.\n",
      "Try using .loc[row_indexer,col_indexer] = value instead\n",
      "\n",
      "See the caveats in the documentation: http://pandas.pydata.org/pandas-docs/stable/indexing.html#indexing-view-versus-copy\n",
      "  app.launch_new_instance()\n",
      "/home/ec2-user/anaconda3/envs/python3/lib/python3.6/site-packages/ipykernel/__main__.py:4: SettingWithCopyWarning: \n",
      "A value is trying to be set on a copy of a slice from a DataFrame.\n",
      "Try using .loc[row_indexer,col_indexer] = value instead\n",
      "\n",
      "See the caveats in the documentation: http://pandas.pydata.org/pandas-docs/stable/indexing.html#indexing-view-versus-copy\n"
     ]
    },
    {
     "data": {
      "text/html": [
       "<div>\n",
       "<style scoped>\n",
       "    .dataframe tbody tr th:only-of-type {\n",
       "        vertical-align: middle;\n",
       "    }\n",
       "\n",
       "    .dataframe tbody tr th {\n",
       "        vertical-align: top;\n",
       "    }\n",
       "\n",
       "    .dataframe thead th {\n",
       "        text-align: right;\n",
       "    }\n",
       "</style>\n",
       "<table border=\"1\" class=\"dataframe\">\n",
       "  <thead>\n",
       "    <tr style=\"text-align: right;\">\n",
       "      <th></th>\n",
       "      <th>train_id</th>\n",
       "      <th>name</th>\n",
       "      <th>item_condition_id</th>\n",
       "      <th>category_name</th>\n",
       "      <th>brand_name</th>\n",
       "      <th>price</th>\n",
       "      <th>shipping</th>\n",
       "      <th>item_description</th>\n",
       "      <th>main_cat</th>\n",
       "      <th>subcat_1</th>\n",
       "      <th>subcat_2</th>\n",
       "    </tr>\n",
       "  </thead>\n",
       "  <tbody>\n",
       "    <tr>\n",
       "      <th>1238931</th>\n",
       "      <td>1238931</td>\n",
       "      <td>American eagle shorts</td>\n",
       "      <td>2</td>\n",
       "      <td>Women/Athletic Apparel/Shorts</td>\n",
       "      <td>American Eagle</td>\n",
       "      <td>15.00000</td>\n",
       "      <td>1</td>\n",
       "      <td>Practically new size 0</td>\n",
       "      <td>Women</td>\n",
       "      <td>Athletic Apparel</td>\n",
       "      <td>Shorts</td>\n",
       "    </tr>\n",
       "    <tr>\n",
       "      <th>791807</th>\n",
       "      <td>791807</td>\n",
       "      <td>35 Mixed Mailers</td>\n",
       "      <td>1</td>\n",
       "      <td>Other/Office supplies/Shipping Supplies</td>\n",
       "      <td>missing</td>\n",
       "      <td>8.00000</td>\n",
       "      <td>1</td>\n",
       "      <td>(5) 10x13 ( Blue, Green, Purple, Pink) (5) 9x1...</td>\n",
       "      <td>Other</td>\n",
       "      <td>Office supplies</td>\n",
       "      <td>Shipping Supplies</td>\n",
       "    </tr>\n",
       "    <tr>\n",
       "      <th>661553</th>\n",
       "      <td>661553</td>\n",
       "      <td>Tarte pro glow to go</td>\n",
       "      <td>1</td>\n",
       "      <td>Beauty/Makeup/Face</td>\n",
       "      <td>Tarte</td>\n",
       "      <td>12.00000</td>\n",
       "      <td>1</td>\n",
       "      <td>missing</td>\n",
       "      <td>Beauty</td>\n",
       "      <td>Makeup</td>\n",
       "      <td>Face</td>\n",
       "    </tr>\n",
       "    <tr>\n",
       "      <th>188650</th>\n",
       "      <td>188650</td>\n",
       "      <td>Michael Kors watch (rose gold)</td>\n",
       "      <td>3</td>\n",
       "      <td>Women/Women's Accessories/Watches</td>\n",
       "      <td>Michael Kors</td>\n",
       "      <td>55.00000</td>\n",
       "      <td>1</td>\n",
       "      <td>Missing one rock. Worn twice. The bling is ver...</td>\n",
       "      <td>Women</td>\n",
       "      <td>Women's Accessories</td>\n",
       "      <td>Watches</td>\n",
       "    </tr>\n",
       "    <tr>\n",
       "      <th>1400779</th>\n",
       "      <td>1400779</td>\n",
       "      <td>mnk Boutique Medium Black Blouse</td>\n",
       "      <td>3</td>\n",
       "      <td>Women/Tops &amp; Blouses/Blouse</td>\n",
       "      <td>missing</td>\n",
       "      <td>7.00000</td>\n",
       "      <td>1</td>\n",
       "      <td>Could fit Small too!</td>\n",
       "      <td>Women</td>\n",
       "      <td>Tops &amp; Blouses</td>\n",
       "      <td>Blouse</td>\n",
       "    </tr>\n",
       "  </tbody>\n",
       "</table>\n",
       "</div>"
      ],
      "text/plain": [
       "         train_id                              name  item_condition_id                            category_name      brand_name    price  shipping                                   item_description main_cat             subcat_1           subcat_2\n",
       "1238931   1238931             American eagle shorts                  2            Women/Athletic Apparel/Shorts  American Eagle 15.00000         1                             Practically new size 0    Women     Athletic Apparel             Shorts\n",
       "791807     791807                  35 Mixed Mailers                  1  Other/Office supplies/Shipping Supplies         missing  8.00000         1  (5) 10x13 ( Blue, Green, Purple, Pink) (5) 9x1...    Other      Office supplies  Shipping Supplies\n",
       "661553     661553              Tarte pro glow to go                  1                       Beauty/Makeup/Face           Tarte 12.00000         1                                            missing   Beauty               Makeup               Face\n",
       "188650     188650    Michael Kors watch (rose gold)                  3        Women/Women's Accessories/Watches    Michael Kors 55.00000         1  Missing one rock. Worn twice. The bling is ver...    Women  Women's Accessories            Watches\n",
       "1400779   1400779  mnk Boutique Medium Black Blouse                  3              Women/Tops & Blouses/Blouse         missing  7.00000         1                               Could fit Small too!    Women       Tops & Blouses             Blouse"
      ]
     },
     "execution_count": 10,
     "metadata": {},
     "output_type": "execute_result"
    }
   ],
   "source": [
    "# split category name into 3 columns based on \"/\"\n",
    "train['main_cat'] = train['category_name'].str.split('/', n=2, expand=True)[0]\n",
    "train['subcat_1'] = train['category_name'].str.split('/', n=2, expand=True)[1]\n",
    "train['subcat_2'] = train['category_name'].str.split('/', n=2, expand=True)[2]\n",
    "\n",
    "train.head()"
   ]
  },
  {
   "cell_type": "code",
   "execution_count": 11,
   "metadata": {},
   "outputs": [
    {
     "name": "stderr",
     "output_type": "stream",
     "text": [
      "/home/ec2-user/anaconda3/envs/python3/lib/python3.6/site-packages/ipykernel/__main__.py:2: SettingWithCopyWarning: \n",
      "A value is trying to be set on a copy of a slice from a DataFrame.\n",
      "Try using .loc[row_indexer,col_indexer] = value instead\n",
      "\n",
      "See the caveats in the documentation: http://pandas.pydata.org/pandas-docs/stable/indexing.html#indexing-view-versus-copy\n",
      "  from ipykernel import kernelapp as app\n",
      "/home/ec2-user/anaconda3/envs/python3/lib/python3.6/site-packages/ipykernel/__main__.py:3: SettingWithCopyWarning: \n",
      "A value is trying to be set on a copy of a slice from a DataFrame.\n",
      "Try using .loc[row_indexer,col_indexer] = value instead\n",
      "\n",
      "See the caveats in the documentation: http://pandas.pydata.org/pandas-docs/stable/indexing.html#indexing-view-versus-copy\n",
      "  app.launch_new_instance()\n",
      "/home/ec2-user/anaconda3/envs/python3/lib/python3.6/site-packages/ipykernel/__main__.py:4: SettingWithCopyWarning: \n",
      "A value is trying to be set on a copy of a slice from a DataFrame.\n",
      "Try using .loc[row_indexer,col_indexer] = value instead\n",
      "\n",
      "See the caveats in the documentation: http://pandas.pydata.org/pandas-docs/stable/indexing.html#indexing-view-versus-copy\n"
     ]
    },
    {
     "data": {
      "text/html": [
       "<div>\n",
       "<style scoped>\n",
       "    .dataframe tbody tr th:only-of-type {\n",
       "        vertical-align: middle;\n",
       "    }\n",
       "\n",
       "    .dataframe tbody tr th {\n",
       "        vertical-align: top;\n",
       "    }\n",
       "\n",
       "    .dataframe thead th {\n",
       "        text-align: right;\n",
       "    }\n",
       "</style>\n",
       "<table border=\"1\" class=\"dataframe\">\n",
       "  <thead>\n",
       "    <tr style=\"text-align: right;\">\n",
       "      <th></th>\n",
       "      <th>train_id</th>\n",
       "      <th>name</th>\n",
       "      <th>item_condition_id</th>\n",
       "      <th>category_name</th>\n",
       "      <th>brand_name</th>\n",
       "      <th>price</th>\n",
       "      <th>shipping</th>\n",
       "      <th>item_description</th>\n",
       "      <th>main_cat</th>\n",
       "      <th>subcat_1</th>\n",
       "      <th>subcat_2</th>\n",
       "    </tr>\n",
       "  </thead>\n",
       "  <tbody>\n",
       "    <tr>\n",
       "      <th>398529</th>\n",
       "      <td>398529</td>\n",
       "      <td>Neptune - Seahorse Beanie Boo</td>\n",
       "      <td>3</td>\n",
       "      <td>Kids/Toys/Stuffed Animals &amp; Plush</td>\n",
       "      <td>missing</td>\n",
       "      <td>6.00000</td>\n",
       "      <td>1</td>\n",
       "      <td>It does have scratches on the eyes. Smoke and ...</td>\n",
       "      <td>Kids</td>\n",
       "      <td>Toys</td>\n",
       "      <td>Stuffed Animals &amp; Plush</td>\n",
       "    </tr>\n",
       "    <tr>\n",
       "      <th>586577</th>\n",
       "      <td>586577</td>\n",
       "      <td>Adidas size 4 youth ON HOLD</td>\n",
       "      <td>2</td>\n",
       "      <td>Kids/Boys 2T-5T/Shoes</td>\n",
       "      <td>missing</td>\n",
       "      <td>15.00000</td>\n",
       "      <td>1</td>\n",
       "      <td>7/10 condition size 4 in kids I'm a 6.5 in wom...</td>\n",
       "      <td>Kids</td>\n",
       "      <td>Boys 2T-5T</td>\n",
       "      <td>Shoes</td>\n",
       "    </tr>\n",
       "    <tr>\n",
       "      <th>614137</th>\n",
       "      <td>614137</td>\n",
       "      <td>NWT Heart Eyes Emoji Chia Pet</td>\n",
       "      <td>1</td>\n",
       "      <td>Home/Home Décor/Home Décor Accents</td>\n",
       "      <td>missing</td>\n",
       "      <td>10.00000</td>\n",
       "      <td>0</td>\n",
       "      <td>*NWT* unused, still in original packaging hear...</td>\n",
       "      <td>Home</td>\n",
       "      <td>Home Décor</td>\n",
       "      <td>Home Décor Accents</td>\n",
       "    </tr>\n",
       "    <tr>\n",
       "      <th>120038</th>\n",
       "      <td>120038</td>\n",
       "      <td>Women's Isabella Costas</td>\n",
       "      <td>3</td>\n",
       "      <td>Women/Women's Accessories/Sunglasses</td>\n",
       "      <td>missing</td>\n",
       "      <td>39.00000</td>\n",
       "      <td>0</td>\n",
       "      <td>Isabella style women's Costas in tortoise shel...</td>\n",
       "      <td>Women</td>\n",
       "      <td>Women's Accessories</td>\n",
       "      <td>Sunglasses</td>\n",
       "    </tr>\n",
       "    <tr>\n",
       "      <th>1361767</th>\n",
       "      <td>1361767</td>\n",
       "      <td>DO NOT BUY! BUNDLE 4 ElNewbern</td>\n",
       "      <td>2</td>\n",
       "      <td>Women/Jewelry/Necklaces</td>\n",
       "      <td>missing</td>\n",
       "      <td>25.00000</td>\n",
       "      <td>0</td>\n",
       "      <td>Do not buy! Bundle 4 Elnewbern 1 lion necklace...</td>\n",
       "      <td>Women</td>\n",
       "      <td>Jewelry</td>\n",
       "      <td>Necklaces</td>\n",
       "    </tr>\n",
       "  </tbody>\n",
       "</table>\n",
       "</div>"
      ],
      "text/plain": [
       "         train_id                            name  item_condition_id                         category_name brand_name    price  shipping                                   item_description main_cat             subcat_1                 subcat_2\n",
       "398529     398529   Neptune - Seahorse Beanie Boo                  3     Kids/Toys/Stuffed Animals & Plush    missing  6.00000         1  It does have scratches on the eyes. Smoke and ...     Kids                 Toys  Stuffed Animals & Plush\n",
       "586577     586577     Adidas size 4 youth ON HOLD                  2                 Kids/Boys 2T-5T/Shoes    missing 15.00000         1  7/10 condition size 4 in kids I'm a 6.5 in wom...     Kids           Boys 2T-5T                    Shoes\n",
       "614137     614137   NWT Heart Eyes Emoji Chia Pet                  1    Home/Home Décor/Home Décor Accents    missing 10.00000         0  *NWT* unused, still in original packaging hear...     Home           Home Décor       Home Décor Accents\n",
       "120038     120038         Women's Isabella Costas                  3  Women/Women's Accessories/Sunglasses    missing 39.00000         0  Isabella style women's Costas in tortoise shel...    Women  Women's Accessories               Sunglasses\n",
       "1361767   1361767  DO NOT BUY! BUNDLE 4 ElNewbern                  2               Women/Jewelry/Necklaces    missing 25.00000         0  Do not buy! Bundle 4 Elnewbern 1 lion necklace...    Women              Jewelry                Necklaces"
      ]
     },
     "execution_count": 11,
     "metadata": {},
     "output_type": "execute_result"
    }
   ],
   "source": [
    "# do the same thing for test\n",
    "test['main_cat'] = test['category_name'].str.split('/', n=2, expand=True)[0]\n",
    "test['subcat_1'] = test['category_name'].str.split('/', n=2, expand=True)[1]\n",
    "test['subcat_2'] = test['category_name'].str.split('/', n=2, expand=True)[2]\n",
    "\n",
    "test.head()"
   ]
  },
  {
   "cell_type": "code",
   "execution_count": 12,
   "metadata": {},
   "outputs": [
    {
     "name": "stderr",
     "output_type": "stream",
     "text": [
      "/home/ec2-user/anaconda3/envs/python3/lib/python3.6/site-packages/pandas/core/generic.py:4355: SettingWithCopyWarning: \n",
      "A value is trying to be set on a copy of a slice from a DataFrame\n",
      "\n",
      "See the caveats in the documentation: http://pandas.pydata.org/pandas-docs/stable/indexing.html#indexing-view-versus-copy\n",
      "  self._update_inplace(new_data)\n"
     ]
    }
   ],
   "source": [
    "train['subcat_1'].fillna(value='missing', inplace=True)\n",
    "train['subcat_2'].fillna(value='missing', inplace=True)\n",
    "test['subcat_1'].fillna(value='missing', inplace=True)\n",
    "test['subcat_2'].fillna(value='missing', inplace=True)"
   ]
  },
  {
   "cell_type": "code",
   "execution_count": 13,
   "metadata": {},
   "outputs": [
    {
     "name": "stderr",
     "output_type": "stream",
     "text": [
      "/home/ec2-user/anaconda3/envs/python3/lib/python3.6/site-packages/pandas/core/indexing.py:537: SettingWithCopyWarning: \n",
      "A value is trying to be set on a copy of a slice from a DataFrame.\n",
      "Try using .loc[row_indexer,col_indexer] = value instead\n",
      "\n",
      "See the caveats in the documentation: http://pandas.pydata.org/pandas-docs/stable/indexing.html#indexing-view-versus-copy\n",
      "  self.obj[item] = s\n"
     ]
    }
   ],
   "source": [
    "# for categories in test data which are not in training data, categorize then as \"missing\"\n",
    "cat_list = train['main_cat'].unique()\n",
    "test.loc[~test['main_cat'].isin(cat_list), 'main_cat'] = 'missing'\n",
    "\n",
    "catsub_list = train['subcat_1'].unique()\n",
    "test.loc[~test['subcat_1'].isin(catsub_list), 'subcat_1'] = 'missing'\n",
    "\n",
    "catsub_list2 = train['subcat_2'].unique()\n",
    "test.loc[~test['subcat_2'].isin(catsub_list2), 'subcat_2'] = 'missing'"
   ]
  },
  {
   "cell_type": "code",
   "execution_count": 14,
   "metadata": {},
   "outputs": [],
   "source": [
    "# drop category_name\n",
    "train = train.drop(['category_name'], axis=1)\n",
    "test = test.drop(['category_name'], axis=1)"
   ]
  },
  {
   "cell_type": "code",
   "execution_count": 53,
   "metadata": {},
   "outputs": [
    {
     "data": {
      "text/html": [
       "<div>\n",
       "<style scoped>\n",
       "    .dataframe tbody tr th:only-of-type {\n",
       "        vertical-align: middle;\n",
       "    }\n",
       "\n",
       "    .dataframe tbody tr th {\n",
       "        vertical-align: top;\n",
       "    }\n",
       "\n",
       "    .dataframe thead th {\n",
       "        text-align: right;\n",
       "    }\n",
       "</style>\n",
       "<table border=\"1\" class=\"dataframe\">\n",
       "  <thead>\n",
       "    <tr style=\"text-align: right;\">\n",
       "      <th></th>\n",
       "      <th>train_id</th>\n",
       "      <th>name</th>\n",
       "      <th>item_condition_id</th>\n",
       "      <th>brand_name</th>\n",
       "      <th>price</th>\n",
       "      <th>shipping</th>\n",
       "      <th>item_description</th>\n",
       "      <th>main_cat</th>\n",
       "      <th>subcat_1</th>\n",
       "      <th>subcat_2</th>\n",
       "    </tr>\n",
       "  </thead>\n",
       "  <tbody>\n",
       "    <tr>\n",
       "      <th>1238931</th>\n",
       "      <td>1238931</td>\n",
       "      <td>American eagle shorts</td>\n",
       "      <td>2</td>\n",
       "      <td>American Eagle</td>\n",
       "      <td>15.00000</td>\n",
       "      <td>1</td>\n",
       "      <td>Practically new size 0</td>\n",
       "      <td>Women</td>\n",
       "      <td>Athletic Apparel</td>\n",
       "      <td>Shorts</td>\n",
       "    </tr>\n",
       "    <tr>\n",
       "      <th>791807</th>\n",
       "      <td>791807</td>\n",
       "      <td>35 Mixed Mailers</td>\n",
       "      <td>1</td>\n",
       "      <td>missing</td>\n",
       "      <td>8.00000</td>\n",
       "      <td>1</td>\n",
       "      <td>(5) 10x13 ( Blue, Green, Purple, Pink) (5) 9x1...</td>\n",
       "      <td>Other</td>\n",
       "      <td>Office supplies</td>\n",
       "      <td>Shipping Supplies</td>\n",
       "    </tr>\n",
       "    <tr>\n",
       "      <th>661553</th>\n",
       "      <td>661553</td>\n",
       "      <td>Tarte pro glow to go</td>\n",
       "      <td>1</td>\n",
       "      <td>Tarte</td>\n",
       "      <td>12.00000</td>\n",
       "      <td>1</td>\n",
       "      <td>missing</td>\n",
       "      <td>Beauty</td>\n",
       "      <td>Makeup</td>\n",
       "      <td>Face</td>\n",
       "    </tr>\n",
       "    <tr>\n",
       "      <th>188650</th>\n",
       "      <td>188650</td>\n",
       "      <td>Michael Kors watch (rose gold)</td>\n",
       "      <td>3</td>\n",
       "      <td>Michael Kors</td>\n",
       "      <td>55.00000</td>\n",
       "      <td>1</td>\n",
       "      <td>Missing one rock. Worn twice. The bling is ver...</td>\n",
       "      <td>Women</td>\n",
       "      <td>Women's Accessories</td>\n",
       "      <td>Watches</td>\n",
       "    </tr>\n",
       "    <tr>\n",
       "      <th>1400779</th>\n",
       "      <td>1400779</td>\n",
       "      <td>mnk Boutique Medium Black Blouse</td>\n",
       "      <td>3</td>\n",
       "      <td>missing</td>\n",
       "      <td>7.00000</td>\n",
       "      <td>1</td>\n",
       "      <td>Could fit Small too!</td>\n",
       "      <td>Women</td>\n",
       "      <td>Tops &amp; Blouses</td>\n",
       "      <td>Blouse</td>\n",
       "    </tr>\n",
       "  </tbody>\n",
       "</table>\n",
       "</div>"
      ],
      "text/plain": [
       "         train_id                              name  item_condition_id      brand_name    price  shipping                                   item_description main_cat             subcat_1           subcat_2\n",
       "1238931   1238931             American eagle shorts                  2  American Eagle 15.00000         1                             Practically new size 0    Women     Athletic Apparel             Shorts\n",
       "791807     791807                  35 Mixed Mailers                  1         missing  8.00000         1  (5) 10x13 ( Blue, Green, Purple, Pink) (5) 9x1...    Other      Office supplies  Shipping Supplies\n",
       "661553     661553              Tarte pro glow to go                  1           Tarte 12.00000         1                                            missing   Beauty               Makeup               Face\n",
       "188650     188650    Michael Kors watch (rose gold)                  3    Michael Kors 55.00000         1  Missing one rock. Worn twice. The bling is ver...    Women  Women's Accessories            Watches\n",
       "1400779   1400779  mnk Boutique Medium Black Blouse                  3         missing  7.00000         1                               Could fit Small too!    Women       Tops & Blouses             Blouse"
      ]
     },
     "execution_count": 53,
     "metadata": {},
     "output_type": "execute_result"
    }
   ],
   "source": [
    "train.head()"
   ]
  },
  {
   "cell_type": "code",
   "execution_count": 15,
   "metadata": {},
   "outputs": [],
   "source": [
    "def to_categorical(dataset):\n",
    "    dataset['main_cat'] = dataset['main_cat'].astype('category')\n",
    "    dataset['subcat_1'] = dataset['subcat_1'].astype('category')\n",
    "    dataset['subcat_2'] = dataset['subcat_2'].astype('category')\n",
    "    dataset['brand_name'] = dataset['brand_name'].astype('category')\n",
    "    dataset['item_condition_id'] = dataset['item_condition_id'].astype('category')\n",
    "    dataset['shipping'] = dataset['shipping'].astype('category')"
   ]
  },
  {
   "cell_type": "code",
   "execution_count": 16,
   "metadata": {},
   "outputs": [],
   "source": [
    "to_categorical(train)\n",
    "to_categorical(test)"
   ]
  },
  {
   "cell_type": "code",
   "execution_count": 56,
   "metadata": {},
   "outputs": [
    {
     "data": {
      "text/plain": [
       "train_id                int64\n",
       "name                   object\n",
       "item_condition_id    category\n",
       "brand_name           category\n",
       "price                 float64\n",
       "shipping                int64\n",
       "item_description       object\n",
       "main_cat             category\n",
       "subcat_1             category\n",
       "subcat_2             category\n",
       "dtype: object"
      ]
     },
     "execution_count": 56,
     "metadata": {},
     "output_type": "execute_result"
    }
   ],
   "source": [
    "train.dtypes"
   ]
  },
  {
   "cell_type": "code",
   "execution_count": 17,
   "metadata": {},
   "outputs": [],
   "source": [
    "test_new = test.drop('price', axis=1)\n",
    "y_test = np.log1p(test[\"price\"])\n",
    "train = train[train.price != 0].reset_index(drop=True)"
   ]
  },
  {
   "cell_type": "code",
   "execution_count": 18,
   "metadata": {},
   "outputs": [],
   "source": [
    "nrow_train = train.shape[0]\n",
    "y = np.log1p(train[\"price\"])\n",
    "train = train.drop('price', axis=1)\n",
    "merge = pd.concat([train, test_new])"
   ]
  },
  {
   "cell_type": "code",
   "execution_count": 59,
   "metadata": {},
   "outputs": [
    {
     "data": {
      "text/html": [
       "<div>\n",
       "<style scoped>\n",
       "    .dataframe tbody tr th:only-of-type {\n",
       "        vertical-align: middle;\n",
       "    }\n",
       "\n",
       "    .dataframe tbody tr th {\n",
       "        vertical-align: top;\n",
       "    }\n",
       "\n",
       "    .dataframe thead th {\n",
       "        text-align: right;\n",
       "    }\n",
       "</style>\n",
       "<table border=\"1\" class=\"dataframe\">\n",
       "  <thead>\n",
       "    <tr style=\"text-align: right;\">\n",
       "      <th></th>\n",
       "      <th>train_id</th>\n",
       "      <th>name</th>\n",
       "      <th>item_condition_id</th>\n",
       "      <th>brand_name</th>\n",
       "      <th>shipping</th>\n",
       "      <th>item_description</th>\n",
       "      <th>main_cat</th>\n",
       "      <th>subcat_1</th>\n",
       "      <th>subcat_2</th>\n",
       "    </tr>\n",
       "  </thead>\n",
       "  <tbody>\n",
       "    <tr>\n",
       "      <th>0</th>\n",
       "      <td>1238931</td>\n",
       "      <td>American eagle shorts</td>\n",
       "      <td>2</td>\n",
       "      <td>American Eagle</td>\n",
       "      <td>1</td>\n",
       "      <td>Practically new size 0</td>\n",
       "      <td>Women</td>\n",
       "      <td>Athletic Apparel</td>\n",
       "      <td>Shorts</td>\n",
       "    </tr>\n",
       "    <tr>\n",
       "      <th>1</th>\n",
       "      <td>791807</td>\n",
       "      <td>35 Mixed Mailers</td>\n",
       "      <td>1</td>\n",
       "      <td>missing</td>\n",
       "      <td>1</td>\n",
       "      <td>(5) 10x13 ( Blue, Green, Purple, Pink) (5) 9x1...</td>\n",
       "      <td>Other</td>\n",
       "      <td>Office supplies</td>\n",
       "      <td>Shipping Supplies</td>\n",
       "    </tr>\n",
       "    <tr>\n",
       "      <th>2</th>\n",
       "      <td>661553</td>\n",
       "      <td>Tarte pro glow to go</td>\n",
       "      <td>1</td>\n",
       "      <td>Tarte</td>\n",
       "      <td>1</td>\n",
       "      <td>missing</td>\n",
       "      <td>Beauty</td>\n",
       "      <td>Makeup</td>\n",
       "      <td>Face</td>\n",
       "    </tr>\n",
       "    <tr>\n",
       "      <th>3</th>\n",
       "      <td>188650</td>\n",
       "      <td>Michael Kors watch (rose gold)</td>\n",
       "      <td>3</td>\n",
       "      <td>Michael Kors</td>\n",
       "      <td>1</td>\n",
       "      <td>Missing one rock. Worn twice. The bling is ver...</td>\n",
       "      <td>Women</td>\n",
       "      <td>Women's Accessories</td>\n",
       "      <td>Watches</td>\n",
       "    </tr>\n",
       "    <tr>\n",
       "      <th>4</th>\n",
       "      <td>1400779</td>\n",
       "      <td>mnk Boutique Medium Black Blouse</td>\n",
       "      <td>3</td>\n",
       "      <td>missing</td>\n",
       "      <td>1</td>\n",
       "      <td>Could fit Small too!</td>\n",
       "      <td>Women</td>\n",
       "      <td>Tops &amp; Blouses</td>\n",
       "      <td>Blouse</td>\n",
       "    </tr>\n",
       "  </tbody>\n",
       "</table>\n",
       "</div>"
      ],
      "text/plain": [
       "   train_id                              name item_condition_id      brand_name  shipping                                   item_description main_cat             subcat_1           subcat_2\n",
       "0   1238931             American eagle shorts                 2  American Eagle         1                             Practically new size 0    Women     Athletic Apparel             Shorts\n",
       "1    791807                  35 Mixed Mailers                 1         missing         1  (5) 10x13 ( Blue, Green, Purple, Pink) (5) 9x1...    Other      Office supplies  Shipping Supplies\n",
       "2    661553              Tarte pro glow to go                 1           Tarte         1                                            missing   Beauty               Makeup               Face\n",
       "3    188650    Michael Kors watch (rose gold)                 3    Michael Kors         1  Missing one rock. Worn twice. The bling is ver...    Women  Women's Accessories            Watches\n",
       "4   1400779  mnk Boutique Medium Black Blouse                 3         missing         1                               Could fit Small too!    Women       Tops & Blouses             Blouse"
      ]
     },
     "execution_count": 59,
     "metadata": {},
     "output_type": "execute_result"
    }
   ],
   "source": [
    "merge.head()"
   ]
  },
  {
   "cell_type": "code",
   "execution_count": 60,
   "metadata": {},
   "outputs": [
    {
     "data": {
      "text/plain": [
       "((1481834, 9), (1185327, 9))"
      ]
     },
     "execution_count": 60,
     "metadata": {},
     "output_type": "execute_result"
    }
   ],
   "source": [
    "merge.shape, train.shape"
   ]
  },
  {
   "cell_type": "code",
   "execution_count": 19,
   "metadata": {},
   "outputs": [],
   "source": [
    "# tokenize name and categories\n",
    "cv = CountVectorizer(min_df = 10)\n",
    "X_name = cv.fit_transform(merge['name'])\n",
    "cv = CountVectorizer()\n",
    "X_main_cat = cv.fit_transform(merge['main_cat'])\n",
    "X_subcat_1 = cv.fit_transform(merge['subcat_1'])\n",
    "X_subcat_2 = cv.fit_transform(merge['subcat_2'])"
   ]
  },
  {
   "cell_type": "code",
   "execution_count": 70,
   "metadata": {},
   "outputs": [
    {
     "name": "stdout",
     "output_type": "stream",
     "text": [
      "  (0, 6)\t1\n",
      "  (0, 10)\t1\n",
      "  (1, 121)\t1\n",
      "  (1, 89)\t1\n",
      "  (2, 78)\t1\n",
      "  (3, 3)\t1\n",
      "  (3, 139)\t1\n",
      "  (4, 19)\t1\n",
      "  (4, 129)\t1\n",
      "  (5, 136)\t1\n",
      "  (6, 6)\t1\n",
      "  (6, 10)\t1\n",
      "  (7, 73)\t1\n",
      "  (8, 44)\t1\n",
      "  (9, 136)\t1\n",
      "  (10, 78)\t1\n",
      "  (11, 78)\t1\n",
      "  (12, 81)\t1\n",
      "  (12, 3)\t1\n",
      "  (13, 123)\t1\n",
      "  (14, 111)\t1\n",
      "  (14, 49)\t1\n",
      "  (15, 57)\t1\n",
      "  (16, 110)\t1\n",
      "  (17, 73)\t1\n",
      "  :\t:\n",
      "  (1481817, 55)\t1\n",
      "  (1481818, 123)\t1\n",
      "  (1481819, 78)\t1\n",
      "  (1481820, 72)\t1\n",
      "  (1481821, 6)\t1\n",
      "  (1481821, 10)\t1\n",
      "  (1481822, 129)\t1\n",
      "  (1481823, 52)\t1\n",
      "  (1481824, 123)\t1\n",
      "  (1481825, 3)\t1\n",
      "  (1481825, 139)\t1\n",
      "  (1481826, 136)\t1\n",
      "  (1481827, 136)\t1\n",
      "  (1481828, 2)\t1\n",
      "  (1481828, 1)\t1\n",
      "  (1481828, 57)\t1\n",
      "  (1481829, 78)\t1\n",
      "  (1481830, 123)\t1\n",
      "  (1481831, 6)\t1\n",
      "  (1481831, 10)\t1\n",
      "  (1481832, 84)\t1\n",
      "  (1481832, 0)\t1\n",
      "  (1481832, 23)\t1\n",
      "  (1481833, 6)\t1\n",
      "  (1481833, 10)\t1\n"
     ]
    }
   ],
   "source": [
    "print(X_subcat_1)"
   ]
  },
  {
   "cell_type": "code",
   "execution_count": 20,
   "metadata": {},
   "outputs": [],
   "source": [
    "tv = TfidfVectorizer(max_features=50000, ngram_range=(1, 3), stop_words='english')\n",
    "X_description = tv.fit_transform(merge['item_description'])"
   ]
  },
  {
   "cell_type": "code",
   "execution_count": 91,
   "metadata": {},
   "outputs": [
    {
     "data": {
      "text/plain": [
       "scipy.sparse.csr.csr_matrix"
      ]
     },
     "execution_count": 91,
     "metadata": {},
     "output_type": "execute_result"
    }
   ],
   "source": [
    "type(X_description)"
   ]
  },
  {
   "cell_type": "code",
   "execution_count": 21,
   "metadata": {},
   "outputs": [],
   "source": [
    "lb = LabelBinarizer(sparse_output=True)\n",
    "X_brand = lb.fit_transform(merge['brand_name'])"
   ]
  },
  {
   "cell_type": "code",
   "execution_count": 68,
   "metadata": {},
   "outputs": [
    {
     "data": {
      "text/html": [
       "<div>\n",
       "<style scoped>\n",
       "    .dataframe tbody tr th:only-of-type {\n",
       "        vertical-align: middle;\n",
       "    }\n",
       "\n",
       "    .dataframe tbody tr th {\n",
       "        vertical-align: top;\n",
       "    }\n",
       "\n",
       "    .dataframe thead th {\n",
       "        text-align: right;\n",
       "    }\n",
       "</style>\n",
       "<table border=\"1\" class=\"dataframe\">\n",
       "  <thead>\n",
       "    <tr style=\"text-align: right;\">\n",
       "      <th></th>\n",
       "      <th>train_id</th>\n",
       "      <th>name</th>\n",
       "      <th>item_condition_id</th>\n",
       "      <th>brand_name</th>\n",
       "      <th>shipping</th>\n",
       "      <th>item_description</th>\n",
       "      <th>main_cat</th>\n",
       "      <th>subcat_1</th>\n",
       "      <th>subcat_2</th>\n",
       "    </tr>\n",
       "  </thead>\n",
       "  <tbody>\n",
       "    <tr>\n",
       "      <th>0</th>\n",
       "      <td>1238931</td>\n",
       "      <td>American eagle shorts</td>\n",
       "      <td>2</td>\n",
       "      <td>American Eagle</td>\n",
       "      <td>1</td>\n",
       "      <td>Practically new size 0</td>\n",
       "      <td>Women</td>\n",
       "      <td>Athletic Apparel</td>\n",
       "      <td>Shorts</td>\n",
       "    </tr>\n",
       "    <tr>\n",
       "      <th>1</th>\n",
       "      <td>791807</td>\n",
       "      <td>35 Mixed Mailers</td>\n",
       "      <td>1</td>\n",
       "      <td>missing</td>\n",
       "      <td>1</td>\n",
       "      <td>(5) 10x13 ( Blue, Green, Purple, Pink) (5) 9x1...</td>\n",
       "      <td>Other</td>\n",
       "      <td>Office supplies</td>\n",
       "      <td>Shipping Supplies</td>\n",
       "    </tr>\n",
       "    <tr>\n",
       "      <th>2</th>\n",
       "      <td>661553</td>\n",
       "      <td>Tarte pro glow to go</td>\n",
       "      <td>1</td>\n",
       "      <td>Tarte</td>\n",
       "      <td>1</td>\n",
       "      <td>missing</td>\n",
       "      <td>Beauty</td>\n",
       "      <td>Makeup</td>\n",
       "      <td>Face</td>\n",
       "    </tr>\n",
       "    <tr>\n",
       "      <th>3</th>\n",
       "      <td>188650</td>\n",
       "      <td>Michael Kors watch (rose gold)</td>\n",
       "      <td>3</td>\n",
       "      <td>Michael Kors</td>\n",
       "      <td>1</td>\n",
       "      <td>Missing one rock. Worn twice. The bling is ver...</td>\n",
       "      <td>Women</td>\n",
       "      <td>Women's Accessories</td>\n",
       "      <td>Watches</td>\n",
       "    </tr>\n",
       "    <tr>\n",
       "      <th>4</th>\n",
       "      <td>1400779</td>\n",
       "      <td>mnk Boutique Medium Black Blouse</td>\n",
       "      <td>3</td>\n",
       "      <td>missing</td>\n",
       "      <td>1</td>\n",
       "      <td>Could fit Small too!</td>\n",
       "      <td>Women</td>\n",
       "      <td>Tops &amp; Blouses</td>\n",
       "      <td>Blouse</td>\n",
       "    </tr>\n",
       "    <tr>\n",
       "      <th>5</th>\n",
       "      <td>436407</td>\n",
       "      <td>Hold for Angelina Ragonese</td>\n",
       "      <td>1</td>\n",
       "      <td>missing</td>\n",
       "      <td>1</td>\n",
       "      <td>@@This silicone bra is different from regular ...</td>\n",
       "      <td>Women</td>\n",
       "      <td>Underwear</td>\n",
       "      <td>Bras</td>\n",
       "    </tr>\n",
       "    <tr>\n",
       "      <th>6</th>\n",
       "      <td>309010</td>\n",
       "      <td>Victoria Sport Sports Bra</td>\n",
       "      <td>3</td>\n",
       "      <td>Victoria's Secret</td>\n",
       "      <td>0</td>\n",
       "      <td>Women's sports bra no holes no tears.</td>\n",
       "      <td>Women</td>\n",
       "      <td>Athletic Apparel</td>\n",
       "      <td>Sports Bras</td>\n",
       "    </tr>\n",
       "    <tr>\n",
       "      <th>7</th>\n",
       "      <td>1187424</td>\n",
       "      <td>⚠Read Below⚠ 2 Bracelets Set</td>\n",
       "      <td>1</td>\n",
       "      <td>missing</td>\n",
       "      <td>1</td>\n",
       "      <td>Black Woven bracelet and Gold Metal Bead Brace...</td>\n",
       "      <td>Women</td>\n",
       "      <td>Jewelry</td>\n",
       "      <td>Bracelets</td>\n",
       "    </tr>\n",
       "    <tr>\n",
       "      <th>8</th>\n",
       "      <td>552377</td>\n",
       "      <td>Dansiki African skirt</td>\n",
       "      <td>1</td>\n",
       "      <td>missing</td>\n",
       "      <td>0</td>\n",
       "      <td>missing</td>\n",
       "      <td>Women</td>\n",
       "      <td>Dresses</td>\n",
       "      <td>Knee-Length</td>\n",
       "    </tr>\n",
       "    <tr>\n",
       "      <th>9</th>\n",
       "      <td>176144</td>\n",
       "      <td>VS DREAM ANGELS UNLINED DEMI BRA 32C</td>\n",
       "      <td>1</td>\n",
       "      <td>Victoria's Secret</td>\n",
       "      <td>1</td>\n",
       "      <td>VS DREAM ANGELS UNLINED DEMI BRA 32C This list...</td>\n",
       "      <td>Women</td>\n",
       "      <td>Underwear</td>\n",
       "      <td>Bras</td>\n",
       "    </tr>\n",
       "    <tr>\n",
       "      <th>10</th>\n",
       "      <td>889119</td>\n",
       "      <td>Ebony Dipbrow with Brush #12</td>\n",
       "      <td>1</td>\n",
       "      <td>missing</td>\n",
       "      <td>1</td>\n",
       "      <td>Ebony Dipbrow with Brush #12 ABH Athentic New ...</td>\n",
       "      <td>Beauty</td>\n",
       "      <td>Makeup</td>\n",
       "      <td>Face</td>\n",
       "    </tr>\n",
       "    <tr>\n",
       "      <th>11</th>\n",
       "      <td>72227</td>\n",
       "      <td>Orly Gel polish</td>\n",
       "      <td>3</td>\n",
       "      <td>missing</td>\n",
       "      <td>1</td>\n",
       "      <td>Color: Luxe Size :.3 fl oz Used , still 50% fu...</td>\n",
       "      <td>Beauty</td>\n",
       "      <td>Makeup</td>\n",
       "      <td>Nails</td>\n",
       "    </tr>\n",
       "    <tr>\n",
       "      <th>12</th>\n",
       "      <td>613868</td>\n",
       "      <td>Adidas SKATE STRAP BACKPACK</td>\n",
       "      <td>1</td>\n",
       "      <td>adidas Originals</td>\n",
       "      <td>0</td>\n",
       "      <td>SKATE STRAP BACKPACK A SKATE BACKPACK WITH A R...</td>\n",
       "      <td>Men</td>\n",
       "      <td>Men's Accessories</td>\n",
       "      <td>Backpacks, Bags &amp; Briefcases</td>\n",
       "    </tr>\n",
       "    <tr>\n",
       "      <th>13</th>\n",
       "      <td>74202</td>\n",
       "      <td>Lace kimono</td>\n",
       "      <td>2</td>\n",
       "      <td>Charlotte Russe</td>\n",
       "      <td>0</td>\n",
       "      <td>Size small, white colored. Tassels on the bott...</td>\n",
       "      <td>Women</td>\n",
       "      <td>Sweaters</td>\n",
       "      <td>Cardigan</td>\n",
       "    </tr>\n",
       "    <tr>\n",
       "      <th>14</th>\n",
       "      <td>1242336</td>\n",
       "      <td>Steelers keychain lanyard</td>\n",
       "      <td>1</td>\n",
       "      <td>missing</td>\n",
       "      <td>1</td>\n",
       "      <td>Brand-new</td>\n",
       "      <td>Sports &amp; Outdoors</td>\n",
       "      <td>Fan Shop</td>\n",
       "      <td>NFL</td>\n",
       "    </tr>\n",
       "    <tr>\n",
       "      <th>15</th>\n",
       "      <td>907744</td>\n",
       "      <td>YOUTH MEDIUM Pink Abercrombie Top</td>\n",
       "      <td>2</td>\n",
       "      <td>Abercrombie &amp; Fitch</td>\n",
       "      <td>1</td>\n",
       "      <td>In great condition and has no flaws!</td>\n",
       "      <td>Kids</td>\n",
       "      <td>Girls (4+)</td>\n",
       "      <td>Tops &amp; T-Shirts</td>\n",
       "    </tr>\n",
       "    <tr>\n",
       "      <th>16</th>\n",
       "      <td>518335</td>\n",
       "      <td>Vans</td>\n",
       "      <td>2</td>\n",
       "      <td>VANS</td>\n",
       "      <td>0</td>\n",
       "      <td>Wore twice, don't fit me anymore. Very well ta...</td>\n",
       "      <td>Women</td>\n",
       "      <td>Shoes</td>\n",
       "      <td>Fashion Sneakers</td>\n",
       "    </tr>\n",
       "    <tr>\n",
       "      <th>17</th>\n",
       "      <td>771004</td>\n",
       "      <td>Tiger's Eye prosperity goddess wand</td>\n",
       "      <td>1</td>\n",
       "      <td>missing</td>\n",
       "      <td>1</td>\n",
       "      <td>Tiger's Eye is a stone of protection that is a...</td>\n",
       "      <td>Handmade</td>\n",
       "      <td>Jewelry</td>\n",
       "      <td>Jewelry</td>\n",
       "    </tr>\n",
       "    <tr>\n",
       "      <th>18</th>\n",
       "      <td>352742</td>\n",
       "      <td>Cheetah print soft blanket</td>\n",
       "      <td>2</td>\n",
       "      <td>missing</td>\n",
       "      <td>0</td>\n",
       "      <td>Very cute, cheetah print, tan brown and white,...</td>\n",
       "      <td>Home</td>\n",
       "      <td>Bedding</td>\n",
       "      <td>Blankets &amp; Throws</td>\n",
       "    </tr>\n",
       "    <tr>\n",
       "      <th>19</th>\n",
       "      <td>591153</td>\n",
       "      <td>Bergdorf Goodman fur capelet stole mink</td>\n",
       "      <td>4</td>\n",
       "      <td>missing</td>\n",
       "      <td>0</td>\n",
       "      <td>Reduced half off made by Bergdorf Goodman insi...</td>\n",
       "      <td>Women</td>\n",
       "      <td>Women's Accessories</td>\n",
       "      <td>Scarves &amp; Wraps</td>\n",
       "    </tr>\n",
       "  </tbody>\n",
       "</table>\n",
       "</div>"
      ],
      "text/plain": [
       "    train_id                                     name item_condition_id           brand_name  shipping                                   item_description           main_cat             subcat_1                      subcat_2\n",
       "0    1238931                    American eagle shorts                 2       American Eagle         1                             Practically new size 0              Women     Athletic Apparel                        Shorts\n",
       "1     791807                         35 Mixed Mailers                 1              missing         1  (5) 10x13 ( Blue, Green, Purple, Pink) (5) 9x1...              Other      Office supplies             Shipping Supplies\n",
       "2     661553                     Tarte pro glow to go                 1                Tarte         1                                            missing             Beauty               Makeup                          Face\n",
       "3     188650           Michael Kors watch (rose gold)                 3         Michael Kors         1  Missing one rock. Worn twice. The bling is ver...              Women  Women's Accessories                       Watches\n",
       "4    1400779         mnk Boutique Medium Black Blouse                 3              missing         1                               Could fit Small too!              Women       Tops & Blouses                        Blouse\n",
       "5     436407               Hold for Angelina Ragonese                 1              missing         1  @@This silicone bra is different from regular ...              Women            Underwear                          Bras\n",
       "6     309010                Victoria Sport Sports Bra                 3    Victoria's Secret         0              Women's sports bra no holes no tears.              Women     Athletic Apparel                   Sports Bras\n",
       "7    1187424             ⚠Read Below⚠ 2 Bracelets Set                 1              missing         1  Black Woven bracelet and Gold Metal Bead Brace...              Women              Jewelry                     Bracelets\n",
       "8     552377                    Dansiki African skirt                 1              missing         0                                            missing              Women              Dresses                   Knee-Length\n",
       "9     176144     VS DREAM ANGELS UNLINED DEMI BRA 32C                 1    Victoria's Secret         1  VS DREAM ANGELS UNLINED DEMI BRA 32C This list...              Women            Underwear                          Bras\n",
       "10    889119             Ebony Dipbrow with Brush #12                 1              missing         1  Ebony Dipbrow with Brush #12 ABH Athentic New ...             Beauty               Makeup                          Face\n",
       "11     72227                          Orly Gel polish                 3              missing         1  Color: Luxe Size :.3 fl oz Used , still 50% fu...             Beauty               Makeup                         Nails\n",
       "12    613868              Adidas SKATE STRAP BACKPACK                 1     adidas Originals         0  SKATE STRAP BACKPACK A SKATE BACKPACK WITH A R...                Men    Men's Accessories  Backpacks, Bags & Briefcases\n",
       "13     74202                              Lace kimono                 2      Charlotte Russe         0  Size small, white colored. Tassels on the bott...              Women             Sweaters                      Cardigan\n",
       "14   1242336                Steelers keychain lanyard                 1              missing         1                                          Brand-new  Sports & Outdoors             Fan Shop                           NFL\n",
       "15    907744        YOUTH MEDIUM Pink Abercrombie Top                 2  Abercrombie & Fitch         1               In great condition and has no flaws!               Kids           Girls (4+)               Tops & T-Shirts\n",
       "16    518335                                     Vans                 2                 VANS         0  Wore twice, don't fit me anymore. Very well ta...              Women                Shoes              Fashion Sneakers\n",
       "17    771004      Tiger's Eye prosperity goddess wand                 1              missing         1  Tiger's Eye is a stone of protection that is a...           Handmade              Jewelry                       Jewelry\n",
       "18    352742               Cheetah print soft blanket                 2              missing         0  Very cute, cheetah print, tan brown and white,...               Home              Bedding             Blankets & Throws\n",
       "19    591153  Bergdorf Goodman fur capelet stole mink                 4              missing         0  Reduced half off made by Bergdorf Goodman insi...              Women  Women's Accessories               Scarves & Wraps"
      ]
     },
     "execution_count": 68,
     "metadata": {},
     "output_type": "execute_result"
    }
   ],
   "source": [
    "merge.head(20)"
   ]
  },
  {
   "cell_type": "code",
   "execution_count": 70,
   "metadata": {},
   "outputs": [
    {
     "name": "stdout",
     "output_type": "stream",
     "text": [
      "  (0, 201)\t1\n",
      "  (1, 4483)\t1\n",
      "  (2, 3923)\t1\n",
      "  (3, 2653)\t1\n",
      "  (4, 4483)\t1\n",
      "  (5, 4483)\t1\n",
      "  (6, 4222)\t1\n",
      "  (7, 4483)\t1\n",
      "  (8, 4483)\t1\n",
      "  (9, 4222)\t1\n",
      "  (10, 4483)\t1\n",
      "  (11, 4483)\t1\n",
      "  (12, 4434)\t1\n",
      "  (13, 852)\t1\n",
      "  (14, 4483)\t1\n",
      "  (15, 69)\t1\n",
      "  (16, 4180)\t1\n",
      "  (17, 4483)\t1\n",
      "  (18, 4483)\t1\n",
      "  (19, 4483)\t1\n",
      "  (20, 1579)\t1\n",
      "  (21, 4483)\t1\n",
      "  (22, 3006)\t1\n",
      "  (23, 2304)\t1\n",
      "  (24, 4483)\t1\n",
      "  :\t:\n",
      "  (1481809, 2470)\t1\n",
      "  (1481810, 4483)\t1\n",
      "  (1481811, 1695)\t1\n",
      "  (1481812, 4204)\t1\n",
      "  (1481813, 4483)\t1\n",
      "  (1481814, 497)\t1\n",
      "  (1481815, 4483)\t1\n",
      "  (1481816, 4483)\t1\n",
      "  (1481817, 4483)\t1\n",
      "  (1481818, 4483)\t1\n",
      "  (1481819, 4389)\t1\n",
      "  (1481820, 1808)\t1\n",
      "  (1481821, 4483)\t1\n",
      "  (1481822, 1826)\t1\n",
      "  (1481823, 4222)\t1\n",
      "  (1481824, 3006)\t1\n",
      "  (1481825, 4483)\t1\n",
      "  (1481826, 4483)\t1\n",
      "  (1481827, 4222)\t1\n",
      "  (1481828, 4483)\t1\n",
      "  (1481829, 2667)\t1\n",
      "  (1481830, 4410)\t1\n",
      "  (1481831, 4483)\t1\n",
      "  (1481832, 4483)\t1\n",
      "  (1481833, 4157)\t1\n"
     ]
    }
   ],
   "source": [
    "print(X_brand)"
   ]
  },
  {
   "cell_type": "code",
   "execution_count": 22,
   "metadata": {},
   "outputs": [],
   "source": [
    "X_dummies = csr_matrix(pd.get_dummies(merge[['item_condition_id', 'shipping']], sparse=True).values)"
   ]
  },
  {
   "cell_type": "code",
   "execution_count": 76,
   "metadata": {},
   "outputs": [
    {
     "name": "stdout",
     "output_type": "stream",
     "text": [
      "  (0, 1)\t1\n",
      "  (0, 6)\t1\n",
      "  (1, 0)\t1\n",
      "  (1, 6)\t1\n",
      "  (2, 0)\t1\n",
      "  (2, 6)\t1\n",
      "  (3, 2)\t1\n",
      "  (3, 6)\t1\n",
      "  (4, 2)\t1\n",
      "  (4, 6)\t1\n",
      "  (5, 0)\t1\n",
      "  (5, 6)\t1\n",
      "  (6, 2)\t1\n",
      "  (6, 5)\t1\n",
      "  (7, 0)\t1\n",
      "  (7, 6)\t1\n",
      "  (8, 0)\t1\n",
      "  (8, 5)\t1\n",
      "  (9, 0)\t1\n",
      "  (9, 6)\t1\n",
      "  (10, 0)\t1\n",
      "  (10, 6)\t1\n",
      "  (11, 2)\t1\n",
      "  (11, 6)\t1\n",
      "  (12, 0)\t1\n",
      "  :\t:\n",
      "  (1481821, 5)\t1\n",
      "  (1481822, 2)\t1\n",
      "  (1481822, 5)\t1\n",
      "  (1481823, 0)\t1\n",
      "  (1481823, 6)\t1\n",
      "  (1481824, 2)\t1\n",
      "  (1481824, 5)\t1\n",
      "  (1481825, 2)\t1\n",
      "  (1481825, 5)\t1\n",
      "  (1481826, 2)\t1\n",
      "  (1481826, 5)\t1\n",
      "  (1481827, 0)\t1\n",
      "  (1481827, 5)\t1\n",
      "  (1481828, 0)\t1\n",
      "  (1481828, 6)\t1\n",
      "  (1481829, 0)\t1\n",
      "  (1481829, 6)\t1\n",
      "  (1481830, 2)\t1\n",
      "  (1481830, 6)\t1\n",
      "  (1481831, 0)\t1\n",
      "  (1481831, 6)\t1\n",
      "  (1481832, 2)\t1\n",
      "  (1481832, 5)\t1\n",
      "  (1481833, 2)\t1\n",
      "  (1481833, 5)\t1\n"
     ]
    }
   ],
   "source": [
    "print(X_dummies)"
   ]
  },
  {
   "cell_type": "code",
   "execution_count": 23,
   "metadata": {},
   "outputs": [],
   "source": [
    "sparse_merge = hstack((X_name, X_main_cat, X_subcat_1, X_subcat_2, X_description, X_brand, X_dummies)).tocsr()"
   ]
  },
  {
   "cell_type": "code",
   "execution_count": 84,
   "metadata": {},
   "outputs": [
    {
     "name": "stdout",
     "output_type": "stream",
     "text": [
      "  (0, 1402)\t1.0\n",
      "  (0, 5444)\t1.0\n",
      "  (0, 14215)\t1.0\n",
      "  (0, 17746)\t1.0\n",
      "  (0, 17753)\t1.0\n",
      "  (0, 17757)\t1.0\n",
      "  (0, 18645)\t1.0\n",
      "  (0, 47356)\t0.16391115486698465\n",
      "  (0, 47933)\t0.46065459332705827\n",
      "  (0, 52460)\t0.5724647239197893\n",
      "  (0, 52463)\t0.6343151353070466\n",
      "  (0, 59026)\t0.17566709408621847\n",
      "  (0, 69055)\t1.0\n",
      "  (0, 73360)\t1.0\n",
      "  (0, 73365)\t1.0\n",
      "  (1, 554)\t1.0\n",
      "  (1, 9821)\t1.0\n",
      "  (1, 10486)\t1.0\n",
      "  (1, 17742)\t1.0\n",
      "  (1, 17836)\t1.0\n",
      "  (1, 17868)\t1.0\n",
      "  (1, 18639)\t1.0\n",
      "  (1, 18713)\t1.0\n",
      "  (1, 18933)\t0.07799009168085859\n",
      "  (1, 18961)\t0.09470360878742733\n",
      "  :\t:\n",
      "  (1481833, 22294)\t0.23805012529725839\n",
      "  (1481833, 26102)\t0.12700415296038658\n",
      "  (1481833, 26292)\t0.16900154124987207\n",
      "  (1481833, 26321)\t0.21292207458956855\n",
      "  (1481833, 35868)\t0.10279147158102143\n",
      "  (1481833, 35953)\t0.1580294384619618\n",
      "  (1481833, 35958)\t0.28367867605495184\n",
      "  (1481833, 37044)\t0.35986623920137817\n",
      "  (1481833, 39188)\t0.14696739677194215\n",
      "  (1481833, 39197)\t0.27853516399777795\n",
      "  (1481833, 39199)\t0.2992697196877632\n",
      "  (1481833, 41114)\t0.196235107592279\n",
      "  (1481833, 49641)\t0.2399021903327842\n",
      "  (1481833, 52470)\t0.22590415613277015\n",
      "  (1481833, 52475)\t0.2481915423609372\n",
      "  (1481833, 56394)\t0.15380348421753534\n",
      "  (1481833, 56469)\t0.19212052358620996\n",
      "  (1481833, 57925)\t0.10884884317014261\n",
      "  (1481833, 60605)\t0.1509594037111252\n",
      "  (1481833, 60608)\t0.15870706418749855\n",
      "  (1481833, 60615)\t0.17338151156209264\n",
      "  (1481833, 65304)\t0.24474422193478523\n",
      "  (1481833, 73011)\t1.0\n",
      "  (1481833, 73361)\t1.0\n",
      "  (1481833, 73364)\t1.0\n"
     ]
    }
   ],
   "source": [
    "print(sparse_merge)"
   ]
  },
  {
   "cell_type": "code",
   "execution_count": 24,
   "metadata": {},
   "outputs": [],
   "source": [
    "# Remove features with document frequency <= 1\n",
    "mask = np.array(np.clip(sparse_merge.getnnz(axis=0) - 1, 0, 1), dtype=bool) # getnnz, number of non-zero items\n",
    "sparse_merge = sparse_merge[:, mask]"
   ]
  },
  {
   "cell_type": "code",
   "execution_count": 25,
   "metadata": {},
   "outputs": [],
   "source": [
    "X = sparse_merge[:nrow_train]\n",
    "X_test = sparse_merge[nrow_train:]"
   ]
  },
  {
   "cell_type": "code",
   "execution_count": 94,
   "metadata": {},
   "outputs": [
    {
     "name": "stdout",
     "output_type": "stream",
     "text": [
      "  (0, 72375)\t1.0\n",
      "  (0, 72370)\t1.0\n",
      "  (0, 68989)\t1.0\n",
      "  (0, 58999)\t0.17566709408621847\n",
      "  (0, 52436)\t0.6343151353070466\n",
      "  (0, 52433)\t0.5724647239197893\n",
      "  (0, 47906)\t0.46065459332705827\n",
      "  (0, 47329)\t0.16391115486698465\n",
      "  (0, 18623)\t1.0\n",
      "  (0, 17757)\t1.0\n",
      "  (0, 17753)\t1.0\n",
      "  (0, 17746)\t1.0\n",
      "  (0, 14215)\t1.0\n",
      "  (0, 5444)\t1.0\n",
      "  (0, 1402)\t1.0\n",
      "  (1, 72375)\t1.0\n",
      "  (1, 72369)\t1.0\n",
      "  (1, 72352)\t1.0\n",
      "  (1, 67235)\t0.09539577108035284\n",
      "  (1, 67233)\t0.07269533304229815\n",
      "  (1, 66802)\t0.09027538054005155\n",
      "  (1, 66801)\t0.0785442028440706\n",
      "  (1, 66793)\t0.050571654191805586\n",
      "  (1, 65793)\t0.08484558571988407\n",
      "  (1, 65792)\t0.07788981152881651\n",
      "  :\t:\n",
      "  (1185326, 68668)\t0.21775758889393884\n",
      "  (1185326, 65457)\t0.18120212934297075\n",
      "  (1185326, 65410)\t0.1046646035466375\n",
      "  (1185326, 59822)\t0.342853954050391\n",
      "  (1185326, 59820)\t0.2608523546441746\n",
      "  (1185326, 58999)\t0.07702846862123937\n",
      "  (1185326, 47289)\t0.22790548605615474\n",
      "  (1185326, 45734)\t0.31802275289055715\n",
      "  (1185326, 45674)\t0.13302479844054854\n",
      "  (1185326, 40644)\t0.23502661047469728\n",
      "  (1185326, 37973)\t0.34941093165883524\n",
      "  (1185326, 37953)\t0.16771358864039512\n",
      "  (1185326, 37843)\t0.2505877708288354\n",
      "  (1185326, 37842)\t0.24691242584811135\n",
      "  (1185326, 37583)\t0.11066044977157094\n",
      "  (1185326, 29671)\t0.3195220744592556\n",
      "  (1185326, 29522)\t0.09261400347052154\n",
      "  (1185326, 17999)\t1.0\n",
      "  (1185326, 17753)\t1.0\n",
      "  (1185326, 17744)\t1.0\n",
      "  (1185326, 17743)\t1.0\n",
      "  (1185326, 16529)\t1.0\n",
      "  (1185326, 7716)\t1.0\n",
      "  (1185326, 2749)\t1.0\n",
      "  (1185326, 1634)\t1.0\n"
     ]
    }
   ],
   "source": [
    "print(X)"
   ]
  },
  {
   "cell_type": "code",
   "execution_count": 95,
   "metadata": {},
   "outputs": [
    {
     "data": {
      "text/plain": [
       "(1185327, 72376)"
      ]
     },
     "execution_count": 95,
     "metadata": {},
     "output_type": "execute_result"
    }
   ],
   "source": [
    "X.shape"
   ]
  },
  {
   "cell_type": "markdown",
   "metadata": {},
   "source": [
    "# Model Building\n",
    "## Light GBM"
   ]
  },
  {
   "cell_type": "code",
   "execution_count": 96,
   "metadata": {},
   "outputs": [],
   "source": [
    "train_X = lgb.Dataset(X, label=y)"
   ]
  },
  {
   "cell_type": "code",
   "execution_count": 97,
   "metadata": {},
   "outputs": [
    {
     "name": "stdout",
     "output_type": "stream",
     "text": [
      "<lightgbm.basic.Dataset object at 0x00000186D7B252B0>\n"
     ]
    }
   ],
   "source": [
    "print(train_X)"
   ]
  },
  {
   "cell_type": "code",
   "execution_count": 126,
   "metadata": {},
   "outputs": [],
   "source": [
    "params = {\n",
    "        'learning_rate': 0.75,\n",
    "        'application': 'regression',\n",
    "        'max_depth': 5,\n",
    "        'num_leaves': 100,\n",
    "        'lambda_l1': 1,\n",
    "        'metric': 'RMSE',\n",
    "    }"
   ]
  },
  {
   "cell_type": "code",
   "execution_count": 127,
   "metadata": {},
   "outputs": [],
   "source": [
    "gbm = lgb.train(params, train_set=train_X, num_boost_round=800)"
   ]
  },
  {
   "cell_type": "code",
   "execution_count": 128,
   "metadata": {},
   "outputs": [],
   "source": [
    "y_pred = gbm.predict(X_test, num_iteration=gbm.best_iteration)"
   ]
  },
  {
   "cell_type": "code",
   "execution_count": 129,
   "metadata": {},
   "outputs": [
    {
     "name": "stdout",
     "output_type": "stream",
     "text": [
      "The rmse of prediction is: 29.43896077410975\n"
     ]
    }
   ],
   "source": [
    "from sklearn.metrics import mean_squared_error\n",
    "print('The rmse of prediction is:', mean_squared_error(np.exp(y_test), np.exp(y_pred)) ** 0.5)"
   ]
  },
  {
   "cell_type": "code",
   "execution_count": 36,
   "metadata": {},
   "outputs": [],
   "source": [
    "y_pred = pd.read_csv('lgbm.csv')\n",
    "y_pred = np.asarray(y_pred['0'])"
   ]
  },
  {
   "cell_type": "markdown",
   "metadata": {},
   "source": [
    "## Ridge Regression"
   ]
  },
  {
   "cell_type": "code",
   "execution_count": 42,
   "metadata": {},
   "outputs": [
    {
     "data": {
      "text/plain": [
       "Ridge(alpha=0.5, copy_X=True, fit_intercept=True, max_iter=100,\n",
       "   normalize=False, random_state=None, solver='auto', tol=0.05)"
      ]
     },
     "execution_count": 42,
     "metadata": {},
     "output_type": "execute_result"
    }
   ],
   "source": [
    "from sklearn.linear_model import Ridge\n",
    "ridge_model = Ridge(\n",
    "    solver='auto', fit_intercept=True, alpha=0.5,\n",
    "    max_iter=100, normalize=False, tol=0.05\n",
    ")\n",
    "ridge_model.fit(X, y)"
   ]
  },
  {
   "cell_type": "code",
   "execution_count": 43,
   "metadata": {},
   "outputs": [],
   "source": [
    "ridge_preds = ridge_model.predict(X_test)"
   ]
  },
  {
   "cell_type": "code",
   "execution_count": 44,
   "metadata": {},
   "outputs": [
    {
     "name": "stdout",
     "output_type": "stream",
     "text": [
      "The rmse of prediction is: 28.02594629468272\n"
     ]
    }
   ],
   "source": [
    "print('The rmse of prediction is:', mean_squared_error(np.exp(y_test), np.exp(ridge_preds)) ** 0.5)"
   ]
  },
  {
   "cell_type": "markdown",
   "metadata": {},
   "source": [
    "## Lasso Regression"
   ]
  },
  {
   "cell_type": "code",
   "execution_count": 67,
   "metadata": {},
   "outputs": [
    {
     "name": "stdout",
     "output_type": "stream",
     "text": [
      "The rmse of prediction is: 38.949003936788266\n"
     ]
    }
   ],
   "source": [
    "from sklearn.linear_model import Lasso\n",
    "lasso_model = Lasso(\n",
    "    fit_intercept=True, alpha=0.6,\n",
    "    max_iter=100, normalize=False, tol=0.05\n",
    ")\n",
    "lasso_model.fit(X, y)\n",
    "\n",
    "lasso_preds = lasso_model.predict(X_test)\n",
    "print('The rmse of prediction is:', mean_squared_error(np.exp(y_test), np.exp(lasso_preds)) ** 0.5)"
   ]
  },
  {
   "cell_type": "markdown",
   "metadata": {},
   "source": [
    "## Neural Network\n"
   ]
  },
  {
   "cell_type": "code",
   "execution_count": 27,
   "metadata": {},
   "outputs": [
    {
     "ename": "ModuleNotFoundError",
     "evalue": "No module named 'keras'",
     "output_type": "error",
     "traceback": [
      "\u001b[0;31m---------------------------------------------------------------------------\u001b[0m",
      "\u001b[0;31mModuleNotFoundError\u001b[0m                       Traceback (most recent call last)",
      "\u001b[0;32m<ipython-input-27-1fff7b3e171c>\u001b[0m in \u001b[0;36m<module>\u001b[0;34m()\u001b[0m\n\u001b[0;32m----> 1\u001b[0;31m \u001b[0;32mfrom\u001b[0m \u001b[0mkeras\u001b[0m\u001b[0;34m.\u001b[0m\u001b[0mpreprocessing\u001b[0m\u001b[0;34m.\u001b[0m\u001b[0msequence\u001b[0m \u001b[0;32mimport\u001b[0m \u001b[0mpad_sequences\u001b[0m\u001b[0;34m\u001b[0m\u001b[0m\n\u001b[0m\u001b[1;32m      2\u001b[0m \u001b[0;32mfrom\u001b[0m \u001b[0mkeras\u001b[0m\u001b[0;34m.\u001b[0m\u001b[0mlayers\u001b[0m \u001b[0;32mimport\u001b[0m \u001b[0mInput\u001b[0m\u001b[0;34m,\u001b[0m \u001b[0mDropout\u001b[0m\u001b[0;34m,\u001b[0m \u001b[0mDense\u001b[0m\u001b[0;34m,\u001b[0m \u001b[0mconcatenate\u001b[0m\u001b[0;34m,\u001b[0m \u001b[0mGRU\u001b[0m\u001b[0;34m,\u001b[0m \u001b[0mEmbedding\u001b[0m\u001b[0;34m,\u001b[0m \u001b[0mFlatten\u001b[0m\u001b[0;34m,\u001b[0m \u001b[0mActivation\u001b[0m\u001b[0;34m\u001b[0m\u001b[0m\n\u001b[1;32m      3\u001b[0m \u001b[0;31m# from keras.layers import Bidirectional\u001b[0m\u001b[0;34m\u001b[0m\u001b[0;34m\u001b[0m\u001b[0m\n\u001b[1;32m      4\u001b[0m \u001b[0;32mfrom\u001b[0m \u001b[0mkeras\u001b[0m\u001b[0;34m.\u001b[0m\u001b[0moptimizers\u001b[0m \u001b[0;32mimport\u001b[0m \u001b[0mAdam\u001b[0m\u001b[0;34m\u001b[0m\u001b[0m\n\u001b[1;32m      5\u001b[0m \u001b[0;32mfrom\u001b[0m \u001b[0mkeras\u001b[0m\u001b[0;34m.\u001b[0m\u001b[0mmodels\u001b[0m \u001b[0;32mimport\u001b[0m \u001b[0mModel\u001b[0m\u001b[0;34m\u001b[0m\u001b[0m\n",
      "\u001b[0;31mModuleNotFoundError\u001b[0m: No module named 'keras'"
     ]
    }
   ],
   "source": [
    "import random as rn\n",
    "import tensorflow as tf\n",
    "from keras.models import Sequential\n",
    "from keras.layers import Dense, Activation\n",
    "from keras.callbacks import EarlyStopping\n",
    "from keras import backend as K\n",
    "from sklearn.metrics import mean_squared_error\n",
    "from math import sqrt"
   ]
  },
  {
   "cell_type": "code",
   "execution_count": null,
   "metadata": {},
   "outputs": [],
   "source": [
    "import random as rn\n",
    "import tensorflow as tf\n",
    "\n",
    "np.random.seed(1234)\n",
    "rn.seed(1234)\n",
    "tf.set_random_seed(1234)\n",
    "session_conf = tf.ConfigProto(intra_op_parallelism_threads=1,inter_op_parallelism_threads=1)\n",
    "\n",
    "sess = tf.Session(graph=tf.get_default_graph(),config=session_conf)\n",
    "K.set_session(sess)\n",
    "\n",
    "priceNN = Sequential()\n",
    "\n",
    "priceNN.add(Dense(units=4,input_shape=(X.shape[1],),activation=\"relu\",use_bias=True))\n",
    "priceNN.add(Dense(units=4,input_shape=(X.shape[1],),activation=\"relu\",use_bias=True))\n",
    "priceNN.add(Dense(units=4,input_shape=(X.shape[1],),activation=\"relu\",use_bias=True))\n",
    "priceNN.add(Dense(units=1,input_shape=(X.shape[1],),activation=\"relu\",use_bias=True)) # add layer\n",
    "priceNN.compile(loss='mean_squared_error', optimizer='rmsprop',metrics=['mean_squared_error']) # configure model\n",
    "priceNN.fit(X,y,epochs=5,batch_size=50,verbose=0)\n",
    "\n",
    "nn_preds = priceNN.predict(X_test,batch_size=X_test.shape[0])\n",
    "print('The rmse of prediction is:', mean_squared_error(np.exp(y_test), np.exp(nn_preds)) ** 0.5)"
   ]
  },
  {
   "cell_type": "code",
   "execution_count": 41,
   "metadata": {},
   "outputs": [],
   "source": [
    "nn_preds = pd.read_csv('nn.csv')\n",
    "nn_preds = np.asarray(nn_preds['0'])"
   ]
  },
  {
   "cell_type": "markdown",
   "metadata": {},
   "source": [
    "# Blending"
   ]
  },
  {
   "cell_type": "code",
   "execution_count": 48,
   "metadata": {},
   "outputs": [
    {
     "name": "stdout",
     "output_type": "stream",
     "text": [
      "The rmse of prediction is: 27.085785670330452\n"
     ]
    }
   ],
   "source": [
    "avg_pred = (y_pred + ridge_preds + nn_preds)/ 3\n",
    "\n",
    "print('The rmse of prediction is:', mean_squared_error(np.exp(y_test), np.exp(avg_pred)) ** 0.5)"
   ]
  },
  {
   "cell_type": "code",
   "execution_count": 65,
   "metadata": {},
   "outputs": [
    {
     "name": "stdout",
     "output_type": "stream",
     "text": [
      "The rmse of prediction is: 27.030468647543316\n"
     ]
    }
   ],
   "source": [
    "weighted_avg_pred = y_pred * 0.4 + ridge_preds * 0.2 + nn_preds *0.4\n",
    "\n",
    "print('The rmse of prediction is:', mean_squared_error(np.exp(y_test), np.exp(weighted_avg_pred)) ** 0.5)"
   ]
  },
  {
   "cell_type": "code",
   "execution_count": 62,
   "metadata": {},
   "outputs": [
    {
     "name": "stdout",
     "output_type": "stream",
     "text": [
      "The rmse of prediction is: 26.823295997878493\n"
     ]
    }
   ],
   "source": [
    "from sklearn.linear_model import LinearRegression\n",
    "\n",
    "linear_model = LinearRegression()\n",
    "\n",
    "X_ensemble = np.column_stack((y_pred, ridge_preds, nn_preds))\n",
    "\n",
    "linear_model.fit(X_ensemble, y_test)\n",
    "\n",
    "linear_preds = linear_model.predict(X_ensemble)\n",
    "print('The rmse of prediction is:', mean_squared_error(np.exp(y_test), np.exp(linear_preds)) ** 0.5)"
   ]
  },
  {
   "cell_type": "code",
   "execution_count": null,
   "metadata": {},
   "outputs": [],
   "source": []
  }
 ],
 "metadata": {
  "kernelspec": {
   "display_name": "conda_python3",
   "language": "python",
   "name": "conda_python3"
  },
  "language_info": {
   "codemirror_mode": {
    "name": "ipython",
    "version": 3
   },
   "file_extension": ".py",
   "mimetype": "text/x-python",
   "name": "python",
   "nbconvert_exporter": "python",
   "pygments_lexer": "ipython3",
   "version": "3.6.5"
  }
 },
 "nbformat": 4,
 "nbformat_minor": 2
}
